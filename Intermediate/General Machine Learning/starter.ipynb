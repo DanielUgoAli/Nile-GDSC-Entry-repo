{
 "cells": [
  {
   "cell_type": "markdown",
   "id": "b7848135",
   "metadata": {},
   "source": [
    "# General Machine Learning - Intermediate Level\n",
    "\n",
    "Welcome to the General Machine Learning intermediate tasks! This notebook contains three comprehensive tasks to test your understanding of feature engineering, ensemble methods, and model optimization.\n",
    "\n",
    "## Tasks Overview:\n",
    "1. **Task 1: Feature Engineering and Model Comparison** - Build and compare multiple models\n",
    "2. **Task 2: Ensemble Methods** - Implement bagging, boosting, and stacking\n",
    "3. **Task 3: Hyperparameter Tuning** - Optimize model performance\n",
    "\n",
    "Please refer to `tasks.md` for detailed requirements for each task."
   ]
  },
  {
   "cell_type": "markdown",
   "id": "6fc2ec25-d6b3-4bb2-8353-0a8aee0b3d76",
   "metadata": {},
   "source": [
    "# Submission Info\n",
    "**Name:** Shammah   \n",
    "**Track:** Intermediate - General Machine Learning  \n",
    "**Task Chosen:** Task 1 - Feature Engineering and Model Comparison  \n",
    "**Date:** 21st October 2025\n"
   ]
  },
  {
   "cell_type": "markdown",
   "id": "08488eb0-a4bf-433f-bf90-0fe18f94de7f",
   "metadata": {},
   "source": [
    "\n",
    "# Importing common libraries\n",
    "import numpy as np\n",
    "import pandas as pd\n",
    "import matplotlib.pyplot as plt\n",
    "import seaborn as sns\n",
    "\n",
    "# Importing ML tools\n",
    "from sklearn.model_selection import train_test_split\n",
    "from sklearn.preprocessing import StandardScaler\n",
    "from sklearn.linear_model import LogisticRegression\n",
    "from sklearn.ensemble import RandomForestClassifier\n",
    "from sklearn.metrics import accuracy_score, classification_report, confusion_matrix\n"
   ]
  },
  {
   "cell_type": "markdown",
   "id": "8993855f",
   "metadata": {},
   "source": [
    "---\n",
    "## Task 1: Feature Engineering and Model Comparison\n",
    "\n",
    "Build and compare multiple ML models with feature engineering.\n",
    "\n",
    "**Requirements:**\n",
    "- Load a dataset (regression or classification)\n",
    "- Perform feature engineering (scaling, encoding, creating new features)\n",
    "- Train at least 3 different models\n",
    "- Compare performance using appropriate metrics\n",
    "- Perform cross-validation\n",
    "- Visualize model comparison results"
   ]
  },
  {
   "cell_type": "code",
   "execution_count": 3,
   "id": "00c97852",
   "metadata": {},
   "outputs": [
    {
     "data": {
      "text/html": [
       "<div>\n",
       "<style scoped>\n",
       "    .dataframe tbody tr th:only-of-type {\n",
       "        vertical-align: middle;\n",
       "    }\n",
       "\n",
       "    .dataframe tbody tr th {\n",
       "        vertical-align: top;\n",
       "    }\n",
       "\n",
       "    .dataframe thead th {\n",
       "        text-align: right;\n",
       "    }\n",
       "</style>\n",
       "<table border=\"1\" class=\"dataframe\">\n",
       "  <thead>\n",
       "    <tr style=\"text-align: right;\">\n",
       "      <th></th>\n",
       "      <th>sepal length (cm)</th>\n",
       "      <th>sepal width (cm)</th>\n",
       "      <th>petal length (cm)</th>\n",
       "      <th>petal width (cm)</th>\n",
       "      <th>target</th>\n",
       "    </tr>\n",
       "  </thead>\n",
       "  <tbody>\n",
       "    <tr>\n",
       "      <th>0</th>\n",
       "      <td>5.1</td>\n",
       "      <td>3.5</td>\n",
       "      <td>1.4</td>\n",
       "      <td>0.2</td>\n",
       "      <td>0</td>\n",
       "    </tr>\n",
       "    <tr>\n",
       "      <th>1</th>\n",
       "      <td>4.9</td>\n",
       "      <td>3.0</td>\n",
       "      <td>1.4</td>\n",
       "      <td>0.2</td>\n",
       "      <td>0</td>\n",
       "    </tr>\n",
       "    <tr>\n",
       "      <th>2</th>\n",
       "      <td>4.7</td>\n",
       "      <td>3.2</td>\n",
       "      <td>1.3</td>\n",
       "      <td>0.2</td>\n",
       "      <td>0</td>\n",
       "    </tr>\n",
       "    <tr>\n",
       "      <th>3</th>\n",
       "      <td>4.6</td>\n",
       "      <td>3.1</td>\n",
       "      <td>1.5</td>\n",
       "      <td>0.2</td>\n",
       "      <td>0</td>\n",
       "    </tr>\n",
       "    <tr>\n",
       "      <th>4</th>\n",
       "      <td>5.0</td>\n",
       "      <td>3.6</td>\n",
       "      <td>1.4</td>\n",
       "      <td>0.2</td>\n",
       "      <td>0</td>\n",
       "    </tr>\n",
       "  </tbody>\n",
       "</table>\n",
       "</div>"
      ],
      "text/plain": [
       "   sepal length (cm)  sepal width (cm)  petal length (cm)  petal width (cm)  \\\n",
       "0                5.1               3.5                1.4               0.2   \n",
       "1                4.9               3.0                1.4               0.2   \n",
       "2                4.7               3.2                1.3               0.2   \n",
       "3                4.6               3.1                1.5               0.2   \n",
       "4                5.0               3.6                1.4               0.2   \n",
       "\n",
       "   target  \n",
       "0       0  \n",
       "1       0  \n",
       "2       0  \n",
       "3       0  \n",
       "4       0  "
      ]
     },
     "execution_count": 3,
     "metadata": {},
     "output_type": "execute_result"
    }
   ],
   "source": [
    "# TODO: Step 1 - Load and explore dataset (Iris dataset)\n",
    "from sklearn.datasets import load_iris\n",
    "\n",
    "data = load_iris()\n",
    "\n",
    "# Convert to DataFrame for analysis\n",
    "df = pd.DataFrame(data.data, columns=data.feature_names)\n",
    "df['target'] = data.target\n",
    "\n",
    "# Show first few rows\n",
    "df.head()\n"
   ]
  },
  {
   "cell_type": "code",
   "execution_count": 4,
   "id": "37ce3a33",
   "metadata": {},
   "outputs": [
    {
     "data": {
      "text/plain": [
       "((120, 4), (30, 4))"
      ]
     },
     "execution_count": 4,
     "metadata": {},
     "output_type": "execute_result"
    }
   ],
   "source": [
    "# TODO: Step 2 - Feature engineering\n",
    "X = df.drop('target', axis=1)\n",
    "y = df['target']\n",
    "\n",
    "# train and test sets\n",
    "X_train, X_test, y_train, y_test = train_test_split(X, y, test_size=0.2, random_state=42)\n",
    "\n",
    "# shape of the data\n",
    "X_train.shape, X_test.shape\n"
   ]
  },
  {
   "cell_type": "code",
   "execution_count": 5,
   "id": "37b17295",
   "metadata": {},
   "outputs": [
    {
     "name": "stdout",
     "output_type": "stream",
     "text": [
      "Logistic Regression Accuracy: 1.0\n",
      "Random Forest Accuracy: 1.0\n"
     ]
    }
   ],
   "source": [
    "# TODO: Step 3 - Train multiple models\n",
    "log_reg = LogisticRegression(max_iter=200)\n",
    "rf = RandomForestClassifier(n_estimators=100, random_state=42)\n",
    "\n",
    "# Train the models\n",
    "log_reg.fit(X_train, y_train)\n",
    "rf.fit(X_train, y_train)\n",
    "\n",
    "# Predict on test data\n",
    "y_pred_log = log_reg.predict(X_test)\n",
    "y_pred_rf = rf.predict(X_test)\n",
    "\n",
    "# Evaluate the models\n",
    "print(\"Logistic Regression Accuracy:\", accuracy_score(y_test, y_pred_log))\n",
    "print(\"Random Forest Accuracy:\", accuracy_score(y_test, y_pred_rf))\n"
   ]
  },
  {
   "cell_type": "code",
   "execution_count": 6,
   "id": "ed48d779",
   "metadata": {},
   "outputs": [
    {
     "name": "stdout",
     "output_type": "stream",
     "text": [
      "Logistic Regression Mean CV Accuracy: 0.9733333333333334\n",
      "Random Forest Mean CV Accuracy: 0.9666666666666668\n"
     ]
    },
    {
     "data": {
      "image/png": "[encoded data removed]",
      "text/plain": [
       "<Figure size 600x400 with 1 Axes>"
      ]
     },
     "metadata": {},
     "output_type": "display_data"
    }
   ],
   "source": [
    "# TODO: Step 4 - Cross-validation and comparison\n",
    "from sklearn.model_selection import cross_val_score\n",
    "\n",
    "# Perform 5-fold cross-validation for both models\n",
    "cv_log = cross_val_score(log_reg, X, y, cv=5)\n",
    "cv_rf = cross_val_score(rf, X, y, cv=5)\n",
    "\n",
    "# Display mean accuracy\n",
    "print(\"Logistic Regression Mean CV Accuracy:\", np.mean(cv_log))\n",
    "print(\"Random Forest Mean CV Accuracy:\", np.mean(cv_rf))\n",
    "\n",
    "# Compare visually\n",
    "models = ['Logistic Regression', 'Random Forest']\n",
    "scores = [np.mean(cv_log), np.mean(cv_rf)]\n",
    "\n",
    "plt.figure(figsize=(6,4))\n",
    "plt.bar(models, scores, color=['orange', 'green'])\n",
    "plt.title('Cross-Validation Model Comparison')\n",
    "plt.ylabel('Accuracy')\n",
    "plt.ylim(0, 1)\n",
    "plt.show()\n"
   ]
  },
  {
   "cell_type": "code",
   "execution_count": 7,
   "id": "da91faf2",
   "metadata": {
    "scrolled": true
   },
   "outputs": [
    {
     "data": {
      "image/png": "[encoded data removed]",
      "text/plain": [
       "<Figure size 600x400 with 2 Axes>"
      ]
     },
     "metadata": {},
     "output_type": "display_data"
    },
    {
     "name": "stdout",
     "output_type": "stream",
     "text": [
      "\n",
      "Classification Report (Random Forest):\n",
      "\n",
      "              precision    recall  f1-score   support\n",
      "\n",
      "           0       1.00      1.00      1.00        10\n",
      "           1       1.00      1.00      1.00         9\n",
      "           2       1.00      1.00      1.00        11\n",
      "\n",
      "    accuracy                           1.00        30\n",
      "   macro avg       1.00      1.00      1.00        30\n",
      "weighted avg       1.00      1.00      1.00        30\n",
      "\n"
     ]
    }
   ],
   "source": [
    "# TODO: Step 5 - Visualize results\n",
    "plt.figure(figsize=(6,4))\n",
    "sns.heatmap(confusion_matrix(y_test, y_pred_rf), annot=True, fmt='d', cmap='Greens')\n",
    "plt.title(\"Confusion Matrix - Random Forest\")\n",
    "plt.xlabel(\"Predicted\")\n",
    "plt.ylabel(\"Actual\")\n",
    "plt.show()\n",
    "\n",
    "# classification report\n",
    "print(\"\\nClassification Report (Random Forest):\\n\")\n",
    "print(classification_report(y_test, y_pred_rf))\n"
   ]
  },
  {
   "cell_type": "markdown",
   "id": "d0959564-5fea-4a0e-8b3d-6893cadbe58d",
   "metadata": {},
   "source": [
    "## Step 1: Importing Libraries\n",
    "Imported essential ML libraries like NumPy, Pandas, Matplotlib, Seaborn, and Scikit-learn.\n",
    "\n",
    "## Step 2: Loading Dataset\n",
    "Used the built-in Iris dataset for simplicity and demonstration.\n",
    "\n",
    "## Step 3: Data Splitting\n",
    "Split the dataset into training and testing sets for evaluation.\n",
    "\n",
    "## Step 4: Model Training\n",
    "Trained Logistic Regression and Random Forest models on the dataset.\n",
    "\n",
    "## Step 5: Cross-Validation & Comparison\n",
    "Used 5-fold cross-validation to compare the models' consistency.\n",
    "\n",
    "## Step 6: Visualization & Report\n",
    "Visualized confusion matrix and displayed classification report for performance insights.\n"
   ]
  },
  {
   "cell_type": "markdown",
   "id": "c4b92067",
   "metadata": {},
   "source": [
    "---\n",
    "## Task 2: Ensemble Methods\n",
    "\n",
    "Implement and compare ensemble learning techniques.\n",
    "\n",
    "**Requirements:**\n",
    "- Choose a dataset (classification or regression)\n",
    "- Implement bagging (Random Forest or similar)\n",
    "- Implement boosting (AdaBoost, Gradient Boosting, or XGBoost)\n",
    "- Implement stacking with multiple base models\n",
    "- Compare all approaches with baseline single model\n",
    "- Analyze feature importance"
   ]
  },
  {
   "cell_type": "code",
   "execution_count": null,
   "id": "dfcdc70b",
   "metadata": {},
   "outputs": [],
   "source": [
    "# TODO: Step 1 - Load dataset"
   ]
  },
  {
   "cell_type": "code",
   "execution_count": null,
   "id": "ef6efdd4",
   "metadata": {},
   "outputs": [],
   "source": [
    "# TODO: Step 2 - Implement bagging"
   ]
  },
  {
   "cell_type": "code",
   "execution_count": null,
   "id": "e5844c96",
   "metadata": {},
   "outputs": [],
   "source": [
    "# TODO: Step 3 - Implement boosting"
   ]
  },
  {
   "cell_type": "code",
   "execution_count": null,
   "id": "c8f223da",
   "metadata": {},
   "outputs": [],
   "source": [
    "# TODO: Step 4 - Implement stacking"
   ]
  },
  {
   "cell_type": "code",
   "execution_count": null,
   "id": "097de530",
   "metadata": {},
   "outputs": [],
   "source": [
    "# TODO: Step 5 - Compare with baseline"
   ]
  },
  {
   "cell_type": "code",
   "execution_count": null,
   "id": "ffef9467",
   "metadata": {},
   "outputs": [],
   "source": [
    "# TODO: Step 6 - Feature importance analysis"
   ]
  },
  {
   "cell_type": "markdown",
   "id": "287a407b",
   "metadata": {},
   "source": [
    "---\n",
    "## Task 3: Hyperparameter Tuning and Model Optimization\n",
    "\n",
    "Optimize a machine learning model through systematic hyperparameter tuning.\n",
    "\n",
    "**Requirements:**\n",
    "- Select a dataset and model type\n",
    "- Implement Grid Search or Random Search\n",
    "- Use cross-validation for evaluation\n",
    "- Compare at least 5 different hyperparameter combinations\n",
    "- Visualize the effect of different hyperparameters\n",
    "- Report best model performance on test set"
   ]
  },
  {
   "cell_type": "code",
   "execution_count": null,
   "id": "ac50ec5c",
   "metadata": {},
   "outputs": [],
   "source": [
    "# TODO: Step 1 - Load dataset and choose model"
   ]
  },
  {
   "cell_type": "code",
   "execution_count": null,
   "id": "f8b68407",
   "metadata": {},
   "outputs": [],
   "source": [
    "# TODO: Step 2 - Define hyperparameter grid"
   ]
  },
  {
   "cell_type": "code",
   "execution_count": null,
   "id": "03f2d7a0",
   "metadata": {},
   "outputs": [],
   "source": [
    "# TODO: Step 3 - Perform grid/random search"
   ]
  },
  {
   "cell_type": "code",
   "execution_count": null,
   "id": "e8798f89",
   "metadata": {},
   "outputs": [],
   "source": [
    "# TODO: Step 4 - Analyze hyperparameter effects"
   ]
  },
  {
   "cell_type": "code",
   "execution_count": null,
   "id": "d702db8d",
   "metadata": {},
   "outputs": [],
   "source": [
    "# TODO: Step 5 - Test best model"
   ]
  }
 ],
 "metadata": {
  "kernelspec": {
   "display_name": "Python 3 (ipykernel)",
   "language": "python",
   "name": "python3"
  },
  "language_info": {
   "codemirror_mode": {
    "name": "ipython",
    "version": 3
   },
   "file_extension": ".py",
   "mimetype": "text/x-python",
   "name": "python",
   "nbconvert_exporter": "python",
   "pygments_lexer": "ipython3",
   "version": "3.11.4"
  }
 },
 "nbformat": 4,
 "nbformat_minor": 5
}
