{
 "cells": [
  {
   "cell_type": "markdown",
   "id": "b7848135",
   "metadata": {},
   "source": [
    "# General Machine Learning - Intermediate Level\n",
    "\n",
    "Welcome to the General Machine Learning intermediate tasks! This notebook contains three comprehensive tasks to test your understanding of feature engineering, ensemble methods, and model optimization.\n",
    "\n",
    "## Tasks Overview:\n",
    "1. **Task 1: Feature Engineering and Model Comparison** - Build and compare multiple models\n",
    "2. **Task 2: Ensemble Methods** - Implement bagging, boosting, and stacking\n",
    "3. **Task 3: Hyperparameter Tuning** - Optimize model performance\n",
    "\n",
    "Please refer to `tasks.md` for detailed requirements for each task."
   ]
  },
  {
   "cell_type": "code",
   "execution_count": null,
   "id": "060bb773",
   "metadata": {},
   "outputs": [],
   "source": [
    "# TODO: Import necessary libraries\n",
    "# Example:\n",
    "# import numpy as np"
   ]
  },
  {
   "cell_type": "markdown",
   "id": "8993855f",
   "metadata": {},
   "source": [
    "---\n",
    "## Task 1: Feature Engineering and Model Comparison\n",
    "\n",
    "Build and compare multiple ML models with feature engineering.\n",
    "\n",
    "**Requirements:**\n",
    "- Load a dataset (regression or classification)\n",
    "- Perform feature engineering (scaling, encoding, creating new features)\n",
    "- Train at least 3 different models\n",
    "- Compare performance using appropriate metrics\n",
    "- Perform cross-validation\n",
    "- Visualize model comparison results"
   ]
  },
  {
   "cell_type": "code",
   "execution_count": null,
   "id": "00c97852",
   "metadata": {},
   "outputs": [],
   "source": [
    "# TODO: Step 1 - Load and explore dataset"
   ]
  },
  {
   "cell_type": "code",
   "execution_count": null,
   "id": "37ce3a33",
   "metadata": {},
   "outputs": [],
   "source": [
    "# TODO: Step 2 - Feature engineering"
   ]
  },
  {
   "cell_type": "code",
   "execution_count": null,
   "id": "37b17295",
   "metadata": {},
   "outputs": [],
   "source": [
    "# TODO: Step 3 - Train multiple models"
   ]
  },
  {
   "cell_type": "code",
   "execution_count": null,
   "id": "ed48d779",
   "metadata": {},
   "outputs": [],
   "source": [
    "# TODO: Step 4 - Cross-validation and comparison"
   ]
  },
  {
   "cell_type": "code",
   "execution_count": null,
   "id": "da91faf2",
   "metadata": {},
   "outputs": [],
   "source": [
    "# TODO: Step 5 - Visualize results"
   ]
  },
  {
   "cell_type": "markdown",
   "id": "c4b92067",
   "metadata": {},
   "source": [
    "---\n",
    "## Task 2: Ensemble Methods\n",
    "\n",
    "Implement and compare ensemble learning techniques.\n",
    "\n",
    "**Requirements:**\n",
    "- Choose a dataset (classification or regression)\n",
    "- Implement bagging (Random Forest or similar)\n",
    "- Implement boosting (AdaBoost, Gradient Boosting, or XGBoost)\n",
    "- Implement stacking with multiple base models\n",
    "- Compare all approaches with baseline single model\n",
    "- Analyze feature importance"
   ]
  },
  {
   "cell_type": "code",
   "execution_count": null,
   "id": "dfcdc70b",
   "metadata": {},
   "outputs": [],
   "source": [
    "# TODO: Step 1 - Load dataset"
   ]
  },
  {
   "cell_type": "code",
   "execution_count": null,
   "id": "ef6efdd4",
   "metadata": {},
   "outputs": [],
   "source": [
    "# TODO: Step 2 - Implement bagging"
   ]
  },
  {
   "cell_type": "code",
   "execution_count": null,
   "id": "e5844c96",
   "metadata": {},
   "outputs": [],
   "source": [
    "# TODO: Step 3 - Implement boosting"
   ]
  },
  {
   "cell_type": "code",
   "execution_count": null,
   "id": "c8f223da",
   "metadata": {},
   "outputs": [],
   "source": [
    "# TODO: Step 4 - Implement stacking"
   ]
  },
  {
   "cell_type": "code",
   "execution_count": null,
   "id": "097de530",
   "metadata": {},
   "outputs": [],
   "source": [
    "# TODO: Step 5 - Compare with baseline"
   ]
  },
  {
   "cell_type": "code",
   "execution_count": null,
   "id": "ffef9467",
   "metadata": {},
   "outputs": [],
   "source": [
    "# TODO: Step 6 - Feature importance analysis"
   ]
  },
  {
   "cell_type": "markdown",
   "id": "287a407b",
   "metadata": {},
   "source": [
    "---\n",
    "## Task 3: Hyperparameter Tuning and Model Optimization\n",
    "\n",
    "Optimize a machine learning model through systematic hyperparameter tuning.\n",
    "\n",
    "**Requirements:**\n",
    "- Select a dataset and model type\n",
    "- Implement Grid Search or Random Search\n",
    "- Use cross-validation for evaluation\n",
    "- Compare at least 5 different hyperparameter combinations\n",
    "- Visualize the effect of different hyperparameters\n",
    "- Report best model performance on test set"
   ]
  },
  {
   "cell_type": "code",
   "execution_count": null,
   "id": "ac50ec5c",
   "metadata": {},
   "outputs": [],
   "source": [
    "# TODO: Step 1 - Load dataset and choose model"
   ]
  },
  {
   "cell_type": "code",
   "execution_count": null,
   "id": "f8b68407",
   "metadata": {},
   "outputs": [],
   "source": [
    "# TODO: Step 2 - Define hyperparameter grid"
   ]
  },
  {
   "cell_type": "code",
   "execution_count": null,
   "id": "03f2d7a0",
   "metadata": {},
   "outputs": [],
   "source": [
    "# TODO: Step 3 - Perform grid/random search"
   ]
  },
  {
   "cell_type": "code",
   "execution_count": null,
   "id": "e8798f89",
   "metadata": {},
   "outputs": [],
   "source": [
    "# TODO: Step 4 - Analyze hyperparameter effects"
   ]
  },
  {
   "cell_type": "code",
   "execution_count": null,
   "id": "d702db8d",
   "metadata": {},
   "outputs": [],
   "source": [
    "# TODO: Step 5 - Test best model"
   ]
  }
 ],
 "metadata": {
  "language_info": {
   "name": "python"
  }
 },
 "nbformat": 4,
 "nbformat_minor": 5
}
