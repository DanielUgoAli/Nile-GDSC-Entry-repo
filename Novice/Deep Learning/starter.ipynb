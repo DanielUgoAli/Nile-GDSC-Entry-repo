{
  "cells": [
    {
      "cell_type": "markdown",
      "id": "824e1b84",
      "metadata": {
        "id": "824e1b84"
      },
      "source": [
        "# Deep Learning - Novice Level\n",
        "\n",
        "Pick **ONE** task and complete it.\n",
        "\n",
        "**Tasks:**\n",
        "1. Simple Neural Network\n",
        "2. Multi-class Classification\n",
        "3. Model Improvement"
      ]
    },
    {
      "cell_type": "code",
      "execution_count": 6,
      "id": "372f026b",
      "metadata": {
        "id": "372f026b"
      },
      "outputs": [],
      "source": [
        "# Import libraries\n",
        "import numpy as np\n",
        "import torch\n",
        "import torch.nn as nn\n",
        "import torch.nn.functional as F"
      ]
    },
    {
      "cell_type": "markdown",
      "id": "5a7cde2e",
      "metadata": {
        "id": "5a7cde2e"
      },
      "source": [
        "## Task 1: Simple Neural Network"
      ]
    },
    {
      "cell_type": "code",
      "execution_count": 9,
      "id": "68b4f46b",
      "metadata": {
        "id": "68b4f46b"
      },
      "outputs": [],
      "source": [
        "# Create data\n",
        "x = torch.rand(10, 10,10)\n",
        "y = x*10"
      ]
    },
    {
      "cell_type": "code",
      "execution_count": 11,
      "id": "7f917c43",
      "metadata": {
        "id": "7f917c43"
      },
      "outputs": [],
      "source": [
        "# Build network\n",
        "class Net(nn.Module):\n",
        "    def __init__(self):\n",
        "        super().__init__()\n",
        "        self.fc1=nn.Linear(10, 10)\n",
        "        self.fc2=nn.Linear(10, 10)\n",
        "        self.fc3=nn.Linear(10, 10)\n",
        "    def foward(self, x):\n",
        "        x = self.fc1(x)\n",
        "        x = self.fc2(x)\n",
        "        x = self.fc3(x)\n",
        "        return x\n",
        "\n",
        "net = Net()"
      ]
    },
    {
      "cell_type": "code",
      "execution_count": null,
      "id": "2c1c8a01",
      "metadata": {
        "id": "2c1c8a01"
      },
      "outputs": [],
      "source": [
        "# Train\n",
        "epoch = 5\n",
        "# Define the Loss Function for multi-class classification\n",
        "criterion = nn.CrossEntropyLoss()\n",
        "\n",
        "# Define the Optimizer (Adam is a good general-purpose choice)\n",
        "learning_rate = 0.01\n",
        "optimizer = torch.optim.Adam(net.parameters(), lr=learning_rate)"
      ]
    },
    {
      "cell_type": "code",
      "execution_count": null,
      "id": "cfdd545d",
      "metadata": {
        "id": "cfdd545d"
      },
      "outputs": [],
      "source": [
        "# Visualize decision boundary"
      ]
    },
    {
      "cell_type": "markdown",
      "id": "f421c64c",
      "metadata": {
        "id": "f421c64c"
      },
      "source": [
        "## Task 2: Multi-class Classification"
      ]
    },
    {
      "cell_type": "code",
      "execution_count": null,
      "id": "aee233e1",
      "metadata": {
        "id": "aee233e1"
      },
      "outputs": [],
      "source": [
        "# Load dataset"
      ]
    },
    {
      "cell_type": "code",
      "execution_count": null,
      "id": "412225a8",
      "metadata": {
        "id": "412225a8"
      },
      "outputs": [],
      "source": [
        "# Build model"
      ]
    },
    {
      "cell_type": "code",
      "execution_count": null,
      "id": "f0f5d2fe",
      "metadata": {
        "id": "f0f5d2fe"
      },
      "outputs": [],
      "source": [
        "# Train and evaluate"
      ]
    },
    {
      "cell_type": "code",
      "execution_count": null,
      "id": "cfa78ba2",
      "metadata": {
        "id": "cfa78ba2"
      },
      "outputs": [],
      "source": [
        "# Show confusion matrix"
      ]
    },
    {
      "cell_type": "markdown",
      "id": "888ba31f",
      "metadata": {
        "id": "888ba31f"
      },
      "source": [
        "## Task 3: Model Improvement"
      ]
    },
    {
      "cell_type": "code",
      "execution_count": null,
      "id": "931f63fb",
      "metadata": {
        "id": "931f63fb"
      },
      "outputs": [],
      "source": [
        "# Load dataset"
      ]
    },
    {
      "cell_type": "code",
      "execution_count": null,
      "id": "d7960172",
      "metadata": {
        "id": "d7960172"
      },
      "outputs": [],
      "source": [
        "# Try different activation functions"
      ]
    },
    {
      "cell_type": "code",
      "execution_count": null,
      "id": "ff842ec6",
      "metadata": {
        "id": "ff842ec6"
      },
      "outputs": [],
      "source": [
        "# Try different optimizers"
      ]
    },
    {
      "cell_type": "code",
      "execution_count": null,
      "id": "5ee3cf34",
      "metadata": {
        "id": "5ee3cf34"
      },
      "outputs": [],
      "source": [
        "# Compare results"
      ]
    }
  ],
  "metadata": {
    "language_info": {
      "name": "python"
    },
    "colab": {
      "provenance": []
    },
    "kernelspec": {
      "name": "python3",
      "display_name": "Python 3"
    }
  },
  "nbformat": 4,
  "nbformat_minor": 5
}