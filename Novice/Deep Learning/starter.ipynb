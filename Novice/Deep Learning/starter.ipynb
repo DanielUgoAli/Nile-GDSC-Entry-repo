{
  "cells": [
    {
      "cell_type": "markdown",
      "id": "824e1b84",
      "metadata": {
        "id": "824e1b84"
      },
      "source": [
        "# Deep Learning - Novice Level\n",
        "\n",
        "Pick **ONE** task and complete it.\n",
        "\n",
        "**Tasks:**\n",
        "1. Simple Neural Network\n",
        "2. Multi-class Classification\n",
        "3. Model Improvement"
      ]
    },
    {
      "cell_type": "code",
      "execution_count": 2,
      "id": "372f026b",
      "metadata": {
        "id": "372f026b"
      },
      "outputs": [],
      "source": [
        "# Import libraries\n",
        "import numpy as np\n",
        "import torch\n",
        "import torch.nn as nn\n",
        "import torch.nn.functional as F"
      ]
    },
    {
      "cell_type": "markdown",
      "id": "5a7cde2e",
      "metadata": {
        "id": "5a7cde2e"
      },
      "source": [
        "## Task 1: Simple Neural Network"
      ]
    },
    {
      "cell_type": "code",
      "execution_count": 3,
      "id": "68b4f46b",
      "metadata": {
        "id": "68b4f46b"
      },
      "outputs": [],
      "source": [
        "# Create data\n",
        "x = torch.rand(10, 10,10)\n",
        "y = x*10"
      ]
    },
    {
      "cell_type": "code",
      "execution_count": 7,
      "id": "7f917c43",
      "metadata": {
        "id": "7f917c43"
      },
      "outputs": [],
      "source": [
        "# Build network\n",
        "class Net(nn.Module):\n",
        "    def __init__(self):\n",
        "        super().__init__()\n",
        "        self.fc1=nn.Linear(10, 10)\n",
        "        self.fc2=nn.Linear(10, 10)\n",
        "        self.fc3=nn.Linear(10, 10)\n",
        "    def forward(self, x):\n",
        "        x = self.fc1(x)\n",
        "        x = self.fc2(x)\n",
        "        x = self.fc3(x)\n",
        "        return x\n",
        "\n",
        "net = Net()"
      ]
    },
    {
      "cell_type": "code",
      "execution_count": 17,
      "id": "2c1c8a01",
      "metadata": {
        "id": "2c1c8a01"
      },
      "outputs": [],
      "source": [
        "# Train\n",
        "epochs = 5000\n",
        "criterion = nn.MSELoss()\n",
        "\n",
        "learning_rate = 0.01\n",
        "optimizer = torch.optim.Adam(net.parameters(), lr=learning_rate)"
      ]
    },
    {
      "cell_type": "code",
      "metadata": {
        "colab": {
          "base_uri": "https://localhost:8080/"
        },
        "id": "518dbfeb",
        "outputId": "8430fad9-8345-4984-82a9-5c903625b66c"
      },
      "source": [
        "# Training loop\n",
        "for epoch in range(epochs):\n",
        "    outputs = net(x)\n",
        "    loss = criterion(outputs, y)\n",
        "\n",
        "    optimizer.zero_grad()\n",
        "    loss.backward()\n",
        "    optimizer.step()\n",
        "\n",
        "    if (epoch + 1) % 100 == 0:\n",
        "        print(f'Epoch [{epoch+1}/{epochs}], Loss: {loss.item():.4f}')"
      ],
      "id": "518dbfeb",
      "execution_count": 18,
      "outputs": [
        {
          "output_type": "stream",
          "name": "stdout",
          "text": [
            "Epoch [100/5000], Loss: 0.5298\n",
            "Epoch [200/5000], Loss: 0.4799\n",
            "Epoch [300/5000], Loss: 0.4107\n",
            "Epoch [400/5000], Loss: 0.3164\n",
            "Epoch [500/5000], Loss: 0.2026\n",
            "Epoch [600/5000], Loss: 0.0969\n",
            "Epoch [700/5000], Loss: 0.0616\n",
            "Epoch [800/5000], Loss: 0.0076\n",
            "Epoch [900/5000], Loss: 0.0160\n",
            "Epoch [1000/5000], Loss: 0.0003\n",
            "Epoch [1100/5000], Loss: 0.5608\n",
            "Epoch [1200/5000], Loss: 0.0001\n",
            "Epoch [1300/5000], Loss: 0.0097\n",
            "Epoch [1400/5000], Loss: 0.0000\n",
            "Epoch [1500/5000], Loss: 0.0676\n",
            "Epoch [1600/5000], Loss: 0.0000\n",
            "Epoch [1700/5000], Loss: 0.0479\n",
            "Epoch [1800/5000], Loss: 0.0093\n",
            "Epoch [1900/5000], Loss: 0.0001\n",
            "Epoch [2000/5000], Loss: 0.0007\n",
            "Epoch [2100/5000], Loss: 0.0606\n",
            "Epoch [2200/5000], Loss: 0.0486\n",
            "Epoch [2300/5000], Loss: 0.0033\n",
            "Epoch [2400/5000], Loss: 0.0003\n",
            "Epoch [2500/5000], Loss: 0.0005\n",
            "Epoch [2600/5000], Loss: 0.0054\n",
            "Epoch [2700/5000], Loss: 0.0030\n",
            "Epoch [2800/5000], Loss: 0.0082\n",
            "Epoch [2900/5000], Loss: 0.1236\n",
            "Epoch [3000/5000], Loss: 0.0088\n",
            "Epoch [3100/5000], Loss: 0.0034\n",
            "Epoch [3200/5000], Loss: 0.0398\n",
            "Epoch [3300/5000], Loss: 0.0192\n",
            "Epoch [3400/5000], Loss: 0.0057\n",
            "Epoch [3500/5000], Loss: 0.1407\n",
            "Epoch [3600/5000], Loss: 0.0042\n",
            "Epoch [3700/5000], Loss: 0.0016\n",
            "Epoch [3800/5000], Loss: 0.0126\n",
            "Epoch [3900/5000], Loss: 0.2277\n",
            "Epoch [4000/5000], Loss: 0.0189\n",
            "Epoch [4100/5000], Loss: 0.1733\n",
            "Epoch [4200/5000], Loss: 0.0312\n",
            "Epoch [4300/5000], Loss: 0.0022\n",
            "Epoch [4400/5000], Loss: 0.1287\n",
            "Epoch [4500/5000], Loss: 0.0416\n",
            "Epoch [4600/5000], Loss: 0.0163\n",
            "Epoch [4700/5000], Loss: 0.0108\n",
            "Epoch [4800/5000], Loss: 0.0111\n",
            "Epoch [4900/5000], Loss: 0.1657\n",
            "Epoch [5000/5000], Loss: 0.0041\n"
          ]
        }
      ]
    },
    {
      "cell_type": "code",
      "execution_count": null,
      "id": "cfdd545d",
      "metadata": {
        "id": "cfdd545d"
      },
      "outputs": [],
      "source": [
        "# Visualize decision boundary"
      ]
    },
    {
      "cell_type": "markdown",
      "id": "f421c64c",
      "metadata": {
        "id": "f421c64c"
      },
      "source": [
        "## Task 2: Multi-class Classification"
      ]
    },
    {
      "cell_type": "code",
      "execution_count": null,
      "id": "aee233e1",
      "metadata": {
        "id": "aee233e1"
      },
      "outputs": [],
      "source": [
        "# Load dataset"
      ]
    },
    {
      "cell_type": "code",
      "execution_count": null,
      "id": "412225a8",
      "metadata": {
        "id": "412225a8"
      },
      "outputs": [],
      "source": [
        "# Build model"
      ]
    },
    {
      "cell_type": "code",
      "execution_count": null,
      "id": "f0f5d2fe",
      "metadata": {
        "id": "f0f5d2fe"
      },
      "outputs": [],
      "source": [
        "# Train and evaluate"
      ]
    },
    {
      "cell_type": "code",
      "execution_count": null,
      "id": "cfa78ba2",
      "metadata": {
        "id": "cfa78ba2"
      },
      "outputs": [],
      "source": [
        "# Show confusion matrix"
      ]
    },
    {
      "cell_type": "markdown",
      "id": "888ba31f",
      "metadata": {
        "id": "888ba31f"
      },
      "source": [
        "## Task 3: Model Improvement"
      ]
    },
    {
      "cell_type": "code",
      "execution_count": null,
      "id": "931f63fb",
      "metadata": {
        "id": "931f63fb"
      },
      "outputs": [],
      "source": [
        "# Load dataset"
      ]
    },
    {
      "cell_type": "code",
      "execution_count": null,
      "id": "d7960172",
      "metadata": {
        "id": "d7960172"
      },
      "outputs": [],
      "source": [
        "# Try different activation functions"
      ]
    },
    {
      "cell_type": "code",
      "execution_count": null,
      "id": "ff842ec6",
      "metadata": {
        "id": "ff842ec6"
      },
      "outputs": [],
      "source": [
        "# Try different optimizers"
      ]
    },
    {
      "cell_type": "code",
      "execution_count": null,
      "id": "5ee3cf34",
      "metadata": {
        "id": "5ee3cf34"
      },
      "outputs": [],
      "source": [
        "# Compare results"
      ]
    }
  ],
  "metadata": {
    "language_info": {
      "name": "python"
    },
    "colab": {
      "provenance": []
    },
    "kernelspec": {
      "name": "python3",
      "display_name": "Python 3"
    }
  },
  "nbformat": 4,
  "nbformat_minor": 5
}