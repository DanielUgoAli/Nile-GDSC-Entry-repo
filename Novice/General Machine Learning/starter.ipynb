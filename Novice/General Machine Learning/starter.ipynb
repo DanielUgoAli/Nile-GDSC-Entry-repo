{
 "cells": [
  {
   "cell_type": "markdown",
   "id": "edde6642",
   "metadata": {},
   "source": [
    "# General Machine Learning - Novice Level\n",
    "\n",
    "Pick **ONE** task and complete it.\n",
    "\n",
    "**Tasks:**\n",
    "1. Linear Regression\n",
    "2. Classification Problem\n",
    "3. Clustering"
   ]
  },
  {
   "cell_type": "code",
   "execution_count": 1,
   "id": "8e6f85d9",
   "metadata": {},
   "outputs": [],
   "source": [
    "# Import libraries\n",
    "import numpy as np"
   ]
  },
  {
   "cell_type": "markdown",
   "id": "9e87c595",
   "metadata": {},
   "source": [
    "## Task 1: Linear Regression"
   ]
  },
  {
   "cell_type": "code",
   "execution_count": null,
   "id": "31e38d31",
   "metadata": {},
   "outputs": [],
   "source": [
    "# Load data"
   ]
  },
  {
   "cell_type": "code",
   "execution_count": null,
   "id": "38eabef6",
   "metadata": {},
   "outputs": [],
   "source": [
    "# Build model"
   ]
  },
  {
   "cell_type": "code",
   "execution_count": null,
   "id": "7ca745f8",
   "metadata": {},
   "outputs": [],
   "source": [
    "# Train"
   ]
  },
  {
   "cell_type": "code",
   "execution_count": null,
   "id": "d209426c",
   "metadata": {},
   "outputs": [],
   "source": [
    "# Visualize results"
   ]
  },
  {
   "cell_type": "markdown",
   "id": "a8b70443",
   "metadata": {},
   "source": [
    "## Task 2: Classification Problem"
   ]
  },
  {
   "cell_type": "code",
   "execution_count": 2,
   "id": "a030b70e",
   "metadata": {},
   "outputs": [],
   "source": [
    "# Load dataset\n",
    "\n",
    "# Generate simple synthetic dataset\n",
    "np.random.seed(42)\n",
    "\n",
    "n = 100\n",
    "X_class0 = np.random.randn(n, 2) + np.array([-1, -1])\n",
    "X_class1 = np.random.randn(n, 2) * 1.5 + np.array([1, 1])\n",
    "\n",
    "X = np.vstack((X_class0, X_class1))\n",
    "y = np.hstack((np.zeros(n), np.ones(n))).reshape(-1, 1)\n",
    "\n",
    "# Shuffle dataset\n",
    "indices = np.arange(X.shape[0])\n",
    "np.random.shuffle(indices)\n",
    "X, y = X[indices], y[indices]\n",
    "\n",
    "# Split into train and test\n",
    "split = int(0.8 * len(X))\n",
    "X_train, X_test = X[:split], X[split:]\n",
    "y_train, y_test = y[:split], y[split:]\n"
   ]
  },
  {
   "cell_type": "code",
   "execution_count": 3,
   "id": "9ba0695f",
   "metadata": {},
   "outputs": [
    {
     "name": "stdout",
     "output_type": "stream",
     "text": [
      "Classifier 1 (Logistic Regression) Accuracy: 85.0 %\n"
     ]
    }
   ],
   "source": [
    "# Try classifier 1\n",
    "\n",
    "def sigmoid(z):\n",
    "    return 1 / (1 + np.exp(-z))\n",
    "\n",
    "def compute_loss(y_true, y_pred):\n",
    "    m = y_true.shape[0]\n",
    "    return - (1/m) * np.sum(y_true * np.log(y_pred + 1e-9) + (1 - y_true) * np.log(1 - y_pred + 1e-9))\n",
    "\n",
    "def train_logistic_regression(X, y, lr=0.1, iterations=1000):\n",
    "    m, n = X.shape\n",
    "    W = np.zeros((n, 1))\n",
    "    b = 0\n",
    "\n",
    "    for i in range(iterations):\n",
    "        z = np.dot(X, W) + b\n",
    "        y_pred = sigmoid(z)\n",
    "\n",
    "        dW = (1/m) * np.dot(X.T, (y_pred - y))\n",
    "        db = (1/m) * np.sum(y_pred - y)\n",
    "\n",
    "        W -= lr * dW\n",
    "        b -= lr * db\n",
    "\n",
    "    return W, b\n",
    "\n",
    "def predict_logistic(X, W, b):\n",
    "    y_pred = sigmoid(np.dot(X, W) + b)\n",
    "    return (y_pred >= 0.5).astype(int)\n",
    "\n",
    "# Train and evaluate\n",
    "W1, b1 = train_logistic_regression(X_train, y_train)\n",
    "y_pred1 = predict_logistic(X_test, W1, b1)\n",
    "acc1 = np.mean(y_pred1 == y_test)\n",
    "print(\"Classifier 1 (Logistic Regression) Accuracy:\", round(acc1 * 100, 2), \"%\")\n"
   ]
  },
  {
   "cell_type": "code",
   "execution_count": 4,
   "id": "2d70c66e",
   "metadata": {},
   "outputs": [
    {
     "name": "stdout",
     "output_type": "stream",
     "text": [
      "Classifier 2 (k-Nearest Neighbors) Accuracy: 87.5 %\n"
     ]
    }
   ],
   "source": [
    "# Try classifier 2\n",
    "\n",
    "def euclidean_distance(x1, x2):\n",
    "    return np.sqrt(np.sum((x1 - x2) ** 2))\n",
    "\n",
    "def predict_knn(X_train, y_train, X_test, k=5):\n",
    "    y_pred = []\n",
    "    for x in X_test:\n",
    "        # Compute distances\n",
    "        distances = np.array([euclidean_distance(x, x_train) for x_train in X_train])\n",
    "        # Get k nearest neighbors\n",
    "        k_indices = distances.argsort()[:k]\n",
    "        k_labels = y_train[k_indices]\n",
    "        # Majority vote\n",
    "        label = np.round(np.mean(k_labels))\n",
    "        y_pred.append(label)\n",
    "    return np.array(y_pred).reshape(-1, 1)\n",
    "\n",
    "# Predict and evaluate\n",
    "y_pred2 = predict_knn(X_train, y_train, X_test, k=5)\n",
    "acc2 = np.mean(y_pred2 == y_test)\n",
    "print(\"Classifier 2 (k-Nearest Neighbors) Accuracy:\", round(acc2 * 100, 2), \"%\")\n"
   ]
  },
  {
   "cell_type": "code",
   "execution_count": 5,
   "id": "921b171e",
   "metadata": {},
   "outputs": [
    {
     "name": "stdout",
     "output_type": "stream",
     "text": [
      "\n",
      "--- Model Comparison ---\n",
      "Logistic Regression Accuracy: 85.00%\n",
      "KNN Accuracy: 87.50%\n",
      "\n",
      "Best Model: K-Nearest Neighbors\n"
     ]
    }
   ],
   "source": [
    "# Compare results\n",
    "\n",
    "print(\"\\n--- Model Comparison ---\")\n",
    "print(f\"Logistic Regression Accuracy: {acc1 * 100:.2f}%\")\n",
    "print(f\"KNN Accuracy: {acc2 * 100:.2f}%\")\n",
    "\n",
    "if acc1 > acc2:\n",
    "    print(\"\\nBest Model: Logistic Regression\")\n",
    "elif acc2 > acc1:\n",
    "    print(\"\\nBest Model: K-Nearest Neighbors\")\n",
    "else:\n",
    "    print(\"\\nBoth models performed equally well.\")\n"
   ]
  },
  {
   "cell_type": "markdown",
   "id": "59f663a3",
   "metadata": {},
   "source": [
    "## Task 3: Clustering"
   ]
  },
  {
   "cell_type": "code",
   "execution_count": null,
   "id": "883da6cf",
   "metadata": {},
   "outputs": [],
   "source": [
    "# Load data"
   ]
  },
  {
   "cell_type": "code",
   "execution_count": null,
   "id": "5ba40393",
   "metadata": {},
   "outputs": [],
   "source": [
    "# Apply K-means"
   ]
  },
  {
   "cell_type": "code",
   "execution_count": null,
   "id": "47156ed3",
   "metadata": {},
   "outputs": [],
   "source": [
    "# Visualize clusters"
   ]
  },
  {
   "cell_type": "code",
   "execution_count": null,
   "id": "fc912773",
   "metadata": {},
   "outputs": [],
   "source": [
    "# Find optimal K"
   ]
  }
 ],
 "metadata": {
  "kernelspec": {
   "display_name": "Python 3",
   "language": "python",
   "name": "python3"
  },
  "language_info": {
   "codemirror_mode": {
    "name": "ipython",
    "version": 3
   },
   "file_extension": ".py",
   "mimetype": "text/x-python",
   "name": "python",
   "nbconvert_exporter": "python",
   "pygments_lexer": "ipython3",
   "version": "3.13.7"
  }
 },
 "nbformat": 4,
 "nbformat_minor": 5
}
