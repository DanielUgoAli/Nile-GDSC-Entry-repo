{
 "cells": [
  {
   "cell_type": "markdown",
   "id": "edde6642",
   "metadata": {},
   "source": [
    "# General Machine Learning - Novice Level\n",
    "\n",
    "Pick **ONE** task and complete it.\n",
    "\n",
    "**Tasks:**\n",
    "1. Linear Regression\n",
    "2. Classification Problem\n",
    "3. Clustering"
   ]
  },
  {
   "cell_type": "code",
   "execution_count": null,
   "id": "8e6f85d9",
   "metadata": {},
   "outputs": [],
   "source": [
    "# Import libraries\n",
    "import pandas as pd\n",
    "import numpy as np\n",
    "import matplotlib.pyplot as plt\n",
    "from sklearn.linear_model import LinearRegression\n",
    "from sklearn.model_selection import train_test_split"
   ]
  },
  {
   "cell_type": "markdown",
   "id": "9e87c595",
   "metadata": {},
   "source": [
    "## Task 1: Linear Regression"
   ]
  },
  {
   "cell_type": "code",
   "execution_count": null,
   "id": "31e38d31",
   "metadata": {},
   "outputs": [],
   "source": [
    "# Load data\n",
    "df = pd.read_csv('cost_revenue_dirty.csv')\n",
    "df = df[['USD_Production_Budget', 'USD_Worldwide_Gross']]\n",
    "def clean_currency(col):\n",
    "    if df[col].dtype == object:\n",
    "        df[col] = df[col].astype(str).str.replace('$', '', regex=False).str.replace(',', '', regex=False)\n",
    "        # To Convert to numeric, coercing errors to NaN (for '$0' or non-numeric)\n",
    "        df[col] = pd.to_numeric(df[col], errors='coerce')\n",
    "\n",
    "clean_currency('USD_Production_Budget')\n",
    "clean_currency('USD_Worldwide_Gross')"
   ]
  },
  {
   "cell_type": "code",
   "execution_count": null,
   "id": "38eabef6",
   "metadata": {},
   "outputs": [],
   "source": [
    "# To remove rows with zero or missing values for either budget or gross revenue\n",
    "df.dropna(inplace=True)\n",
    "df = df[df['USD_Production_Budget'] > 0]\n",
    "df = df[df['USD_Worldwide_Gross'] > 0]\n"
   ]
  },
  {
   "cell_type": "code",
   "execution_count": null,
   "id": "7ca745f8",
   "metadata": {},
   "outputs": [],
   "source": [
    "X = df['USD_Production_Budget'].values.reshape(-1, 1)\n",
    "\n",
    "# Target (y) - Worldwide Gross Revenue\n",
    "y = df['USD_Worldwide_Gross'].values\n",
    "\n",
    "# Split data into training and testing sets\n",
    "# 80% for training and 20% for testing\n",
    "X_train, X_test, y_train, y_test = train_test_split(X, y, test_size=0.2, random_state=42)\n",
    "\n",
    "print(f\"Total samples after cleaning: {len(df)}\")\n",
    "print(f\"Training samples: {len(X_train)}\")\n",
    "print(f\"Testing samples: {len(X_test)}\")"
   ]
  },
  {
   "cell_type": "code",
   "execution_count": null,
   "id": "d209426c",
   "metadata": {},
   "outputs": [],
   "source": [
    "# Visualize results\n",
    "model = LinearRegression()\n",
    "model.fit(X_train, y_train)\n",
    "y_pred = model.predict(X_test)\n",
    "\n",
    "r_squared = model.score(X_test, y_test)\n",
    "print(f\"\\nModel Performance on Test Data:\")\n",
    "print(f\"Coefficient of Determination (R-squared): {r_squared:.4f}\")\n",
    "print(f\"Model Intercept (b): ${model.intercept_:.2f}\")\n",
    "print(f\"Model Coefficient (m, slope): {model.coef_[0]:.2f}\")\n",
    "print(\"Interpretation: For every $1 increase in budget, worldwide gross is predicted to increase by $%.2f\" % model.coef_[0])\n",
    "\n",
    "# Scatter plot of the data (budget vs. gross)\n",
    "plt.figure(figsize=(10, 6))\n",
    "plt.scatter(X_test, y_test, color='blue', label='Actual Gross Revenue (Test Data)', alpha=0.6)\n",
    "\n",
    "X_range = np.linspace(X.min(), X.max(), 100).reshape(-1, 1)\n",
    "Y_range_pred = model.predict(X_range)\n",
    "plt.plot(X_range, Y_range_pred, color='red', linewidth=3, label='Linear Regression Prediction')\n",
    "\n",
    "plt.title('Movie Revenue Prediction: Budget vs. Worldwide Gross (Linear Regression)', fontsize=14)\n",
    "plt.xlabel('Production Budget (USD)', fontsize=12)\n",
    "plt.ylabel('Worldwide Gross Revenue (USD)', fontsize=12)\n",
    "plt.legend()\n",
    "plt.grid(True, linestyle='--', alpha=0.6)\n",
    "plt.ticklabel_format(style='plain', axis='both')\n",
    "\n",
    "# Format for the axis (in Millions/Billions)\n",
    "def format_axis(ax):\n",
    "    \"\"\"Formats axis ticks to be more human-readable (M/B).\"\"\"\n",
    "    formatter = plt.FuncFormatter(lambda x, p: '${:1.0f}M'.format(x/1000000) if x < 1000000000 else '${:1.0f}B'.format(x/1000000000))\n",
    "    ax.xaxis.set_major_formatter(formatter)\n",
    "    ax.yaxis.set_major_formatter(formatter)\n",
    "\n",
    "format_axis(plt.gca())\n",
    "plt.tight_layout()\n",
    "plt.show()\n",
    "\n"
   ]
  },
  {
   "cell_type": "markdown",
   "id": "a8b70443",
   "metadata": {},
   "source": [
    "## Task 2: Classification Problem"
   ]
  },
  {
   "cell_type": "code",
   "execution_count": null,
   "id": "a030b70e",
   "metadata": {},
   "outputs": [],
   "source": [
    "# Load dataset"
   ]
  },
  {
   "cell_type": "code",
   "execution_count": null,
   "id": "9ba0695f",
   "metadata": {},
   "outputs": [],
   "source": [
    "# Try classifier 1"
   ]
  },
  {
   "cell_type": "code",
   "execution_count": null,
   "id": "2d70c66e",
   "metadata": {},
   "outputs": [],
   "source": [
    "# Try classifier 2"
   ]
  },
  {
   "cell_type": "code",
   "execution_count": null,
   "id": "921b171e",
   "metadata": {},
   "outputs": [],
   "source": [
    "# Compare results"
   ]
  },
  {
   "cell_type": "markdown",
   "id": "59f663a3",
   "metadata": {},
   "source": [
    "## Task 3: Clustering"
   ]
  },
  {
   "cell_type": "code",
   "execution_count": null,
   "id": "883da6cf",
   "metadata": {},
   "outputs": [],
   "source": [
    "# Load data"
   ]
  },
  {
   "cell_type": "code",
   "execution_count": null,
   "id": "5ba40393",
   "metadata": {},
   "outputs": [],
   "source": [
    "# Apply K-means"
   ]
  },
  {
   "cell_type": "code",
   "execution_count": null,
   "id": "47156ed3",
   "metadata": {},
   "outputs": [],
   "source": [
    "# Visualize clusters"
   ]
  },
  {
   "cell_type": "code",
   "execution_count": null,
   "id": "fc912773",
   "metadata": {},
   "outputs": [],
   "source": [
    "# Find optimal K"
   ]
  }
 ],
 "metadata": {
  "language_info": {
   "name": "python"
  }
 },
 "nbformat": 4,
 "nbformat_minor": 5
}
